{
 "cells": [
  {
   "cell_type": "markdown",
   "id": "45541667",
   "metadata": {},
   "source": [
    "# List Operations "
   ]
  },
  {
   "cell_type": "code",
   "execution_count": 2,
   "id": "b1519239",
   "metadata": {},
   "outputs": [],
   "source": [
    "mylist=['one','two',23,'ball',54,'max',61,'dog',34.55,'six',90,'seven','cat','mat','tom']"
   ]
  },
  {
   "cell_type": "markdown",
   "id": "4a3c7b1d",
   "metadata": {},
   "source": [
    "# 1. Indexing & Slicing"
   ]
  },
  {
   "cell_type": "code",
   "execution_count": 3,
   "id": "d3199711",
   "metadata": {},
   "outputs": [
    {
     "data": {
      "text/plain": [
       "'max'"
      ]
     },
     "execution_count": 3,
     "metadata": {},
     "output_type": "execute_result"
    }
   ],
   "source": [
    "mylist[5] #Element at index 5"
   ]
  },
  {
   "cell_type": "code",
   "execution_count": 4,
   "id": "8841ff5e",
   "metadata": {},
   "outputs": [
    {
     "data": {
      "text/plain": [
       "[23,\n",
       " 'ball',\n",
       " 54,\n",
       " 'max',\n",
       " 61,\n",
       " 'dog',\n",
       " 34.55,\n",
       " 'six',\n",
       " 90,\n",
       " 'seven',\n",
       " 'cat',\n",
       " 'mat',\n",
       " 'tom']"
      ]
     },
     "execution_count": 4,
     "metadata": {},
     "output_type": "execute_result"
    }
   ],
   "source": [
    "mylist[2:] #All elements from 2 onwards"
   ]
  },
  {
   "cell_type": "code",
   "execution_count": 5,
   "id": "199fbab6",
   "metadata": {},
   "outputs": [
    {
     "data": {
      "text/plain": [
       "['one', 'two', 23]"
      ]
     },
     "execution_count": 5,
     "metadata": {},
     "output_type": "execute_result"
    }
   ],
   "source": [
    "mylist[:3] #Elements from 0 to 2 excluding 3 index"
   ]
  },
  {
   "cell_type": "code",
   "execution_count": 7,
   "id": "193733ac",
   "metadata": {},
   "outputs": [
    {
     "data": {
      "text/plain": [
       "['one', 23, 54, 61, 34.55, 90, 'cat', 'tom']"
      ]
     },
     "execution_count": 7,
     "metadata": {},
     "output_type": "execute_result"
    }
   ],
   "source": [
    "mylist[::2] #Starting from 0 till end step of 2"
   ]
  },
  {
   "cell_type": "code",
   "execution_count": 11,
   "id": "bb4a8818",
   "metadata": {},
   "outputs": [
    {
     "data": {
      "text/plain": [
       "['tom', 'mat', 'cat']"
      ]
     },
     "execution_count": 11,
     "metadata": {},
     "output_type": "execute_result"
    }
   ],
   "source": [
    "mylist[-1:-4:-1] #Starting from end till 4th last element step of -1(Reverse)"
   ]
  },
  {
   "cell_type": "code",
   "execution_count": 12,
   "id": "d437254c",
   "metadata": {},
   "outputs": [
    {
     "data": {
      "text/plain": [
       "['ball', 54, 'max', 61, 'dog', 34.55, 'six', 90, 'seven', 'cat', 'mat', 'tom']"
      ]
     },
     "execution_count": 12,
     "metadata": {},
     "output_type": "execute_result"
    }
   ],
   "source": [
    "mylist[3:] #Elements from 3 till 3nd"
   ]
  },
  {
   "cell_type": "code",
   "execution_count": 13,
   "id": "f6dae653",
   "metadata": {},
   "outputs": [
    {
     "data": {
      "text/plain": [
       "[54, 'max', 61, 'dog']"
      ]
     },
     "execution_count": 13,
     "metadata": {},
     "output_type": "execute_result"
    }
   ],
   "source": [
    "mylist[4:8] #Elements from index 4 to 7 excluding 8"
   ]
  },
  {
   "cell_type": "markdown",
   "id": "bcac4a45",
   "metadata": {},
   "source": [
    "# 2. Append\n",
    "\n",
    "-Append is a method\n",
    "\n",
    "-Only one element is added in the list\n",
    "\n",
    "-"
   ]
  },
  {
   "cell_type": "code",
   "execution_count": 15,
   "id": "75c2a329",
   "metadata": {},
   "outputs": [
    {
     "data": {
      "text/plain": [
       "['one',\n",
       " 'two',\n",
       " 23,\n",
       " 'ball',\n",
       " 54,\n",
       " 'max',\n",
       " 61,\n",
       " 'dog',\n",
       " 34.55,\n",
       " 'six',\n",
       " 90,\n",
       " 'seven',\n",
       " 'cat',\n",
       " 'mat',\n",
       " 'tom']"
      ]
     },
     "execution_count": 15,
     "metadata": {},
     "output_type": "execute_result"
    }
   ],
   "source": [
    "mylist"
   ]
  },
  {
   "cell_type": "code",
   "execution_count": 17,
   "id": "9dbe2657",
   "metadata": {},
   "outputs": [
    {
     "data": {
      "text/plain": [
       "['one',\n",
       " 'two',\n",
       " 23,\n",
       " 'ball',\n",
       " 54,\n",
       " 'max',\n",
       " 61,\n",
       " 'dog',\n",
       " 34.55,\n",
       " 'six',\n",
       " 90,\n",
       " 'seven',\n",
       " 'cat',\n",
       " 'mat',\n",
       " 'tom',\n",
       " 'eight',\n",
       " 'eight']"
      ]
     },
     "execution_count": 17,
     "metadata": {},
     "output_type": "execute_result"
    }
   ],
   "source": [
    "mylist.append('eight') #Appends/Adds element at the end of the list\n",
    "mylist"
   ]
  },
  {
   "cell_type": "markdown",
   "id": "a7ec9578",
   "metadata": {},
   "source": [
    "# 3. Insert \n",
    "-Insert is a method\n",
    "\n",
    "-Takes index and element as parameter\n",
    "\n",
    "-Can insert a list in side a list"
   ]
  },
  {
   "cell_type": "code",
   "execution_count": 18,
   "id": "de5c4832",
   "metadata": {},
   "outputs": [
    {
     "data": {
      "text/plain": [
       "['one',\n",
       " 'two',\n",
       " 23,\n",
       " 'nine',\n",
       " 'ball',\n",
       " 54,\n",
       " 'max',\n",
       " 61,\n",
       " 'dog',\n",
       " 34.55,\n",
       " 'six',\n",
       " 90,\n",
       " 'seven',\n",
       " 'cat',\n",
       " 'mat',\n",
       " 'tom',\n",
       " 'eight',\n",
       " 'eight']"
      ]
     },
     "execution_count": 18,
     "metadata": {},
     "output_type": "execute_result"
    }
   ],
   "source": [
    "mylist.insert(3,'nine') #Inserts element at index 3\n",
    "mylist"
   ]
  },
  {
   "cell_type": "code",
   "execution_count": 19,
   "id": "089fd1fe",
   "metadata": {},
   "outputs": [
    {
     "data": {
      "text/plain": [
       "['one',\n",
       " 'two',\n",
       " 23,\n",
       " 'nine',\n",
       " 'ball',\n",
       " 54,\n",
       " [2, 3, 4],\n",
       " 'max',\n",
       " 61,\n",
       " 'dog',\n",
       " 34.55,\n",
       " 'six',\n",
       " 90,\n",
       " 'seven',\n",
       " 'cat',\n",
       " 'mat',\n",
       " 'tom',\n",
       " 'eight',\n",
       " 'eight']"
      ]
     },
     "execution_count": 19,
     "metadata": {},
     "output_type": "execute_result"
    }
   ],
   "source": [
    "mylist.insert(6,[2,3,4])\n",
    "mylist"
   ]
  },
  {
   "cell_type": "markdown",
   "id": "40ef5f58",
   "metadata": {},
   "source": [
    "# 4. Extend\n",
    "-Extend is a method.\n",
    "\n",
    "-Adds all the element at the end of the list.\n",
    "\n",
    "-One list can extend another list with extend method."
   ]
  },
  {
   "cell_type": "code",
   "execution_count": 20,
   "id": "39596721",
   "metadata": {},
   "outputs": [
    {
     "data": {
      "text/plain": [
       "['one',\n",
       " 'two',\n",
       " 23,\n",
       " 'nine',\n",
       " 'ball',\n",
       " 54,\n",
       " [2, 3, 4],\n",
       " 'max',\n",
       " 61,\n",
       " 'dog',\n",
       " 34.55,\n",
       " 'six',\n",
       " 90,\n",
       " 'seven',\n",
       " 'cat',\n",
       " 'mat',\n",
       " 'tom',\n",
       " 'eight',\n",
       " 'eight',\n",
       " 5,\n",
       " 6,\n",
       " 7]"
      ]
     },
     "execution_count": 20,
     "metadata": {},
     "output_type": "execute_result"
    }
   ],
   "source": [
    "mylist.extend([5,6,7]) #adds all the element at the end of the list\n",
    "mylist"
   ]
  },
  {
   "cell_type": "code",
   "execution_count": 26,
   "id": "7951969e",
   "metadata": {},
   "outputs": [
    {
     "data": {
      "text/plain": [
       "[1, 2, 3, 4, 5, 6]"
      ]
     },
     "execution_count": 26,
     "metadata": {},
     "output_type": "execute_result"
    }
   ],
   "source": [
    "list1=[1,2,3]  #Extends another list \n",
    "list2=[4,5,6]\n",
    "list1.extend(list2)\n",
    "list1"
   ]
  },
  {
   "cell_type": "markdown",
   "id": "cdf49216",
   "metadata": {},
   "source": [
    "# 5. Pop\n",
    "\n",
    "-Delete element at last position(Default).\n",
    "\n",
    "-Also deletes element from given index."
   ]
  },
  {
   "cell_type": "code",
   "execution_count": 39,
   "id": "5100dcb2",
   "metadata": {},
   "outputs": [
    {
     "data": {
      "text/plain": [
       "[1, 2, 3, 4, 5, 6]"
      ]
     },
     "execution_count": 39,
     "metadata": {},
     "output_type": "execute_result"
    }
   ],
   "source": [
    "list3=[1,2,3,4,5,6]\n",
    "list3"
   ]
  },
  {
   "cell_type": "code",
   "execution_count": 29,
   "id": "061d347a",
   "metadata": {},
   "outputs": [
    {
     "data": {
      "text/plain": [
       "6"
      ]
     },
     "execution_count": 29,
     "metadata": {},
     "output_type": "execute_result"
    }
   ],
   "source": [
    "list3.pop()"
   ]
  },
  {
   "cell_type": "code",
   "execution_count": 30,
   "id": "95f713dc",
   "metadata": {},
   "outputs": [
    {
     "data": {
      "text/plain": [
       "4"
      ]
     },
     "execution_count": 30,
     "metadata": {},
     "output_type": "execute_result"
    }
   ],
   "source": [
    "list3.pop(3)"
   ]
  },
  {
   "cell_type": "markdown",
   "id": "76d0f959",
   "metadata": {},
   "source": [
    "# 6. Remove\n",
    "-Removes element passed as a parameter\n",
    "\n",
    "-Remove is a method"
   ]
  },
  {
   "cell_type": "code",
   "execution_count": 32,
   "id": "cd5b39e5",
   "metadata": {},
   "outputs": [
    {
     "data": {
      "text/plain": [
       "[1, 2, 3, 4, 5, 6]"
      ]
     },
     "execution_count": 32,
     "metadata": {},
     "output_type": "execute_result"
    }
   ],
   "source": [
    "list4 = [1,2,3,4,5,6]\n",
    "list4"
   ]
  },
  {
   "cell_type": "code",
   "execution_count": 33,
   "id": "31b1e65c",
   "metadata": {
    "scrolled": true
   },
   "outputs": [
    {
     "data": {
      "text/plain": [
       "[1, 2, 3, 5, 6]"
      ]
     },
     "execution_count": 33,
     "metadata": {},
     "output_type": "execute_result"
    }
   ],
   "source": [
    "list4.remove(4)\n",
    "list4"
   ]
  },
  {
   "cell_type": "markdown",
   "id": "289e7171",
   "metadata": {},
   "source": [
    "# 7. Clear Method\n",
    "-Clears the list to make it empty"
   ]
  },
  {
   "cell_type": "code",
   "execution_count": 34,
   "id": "843df478",
   "metadata": {},
   "outputs": [
    {
     "data": {
      "text/plain": [
       "[]"
      ]
     },
     "execution_count": 34,
     "metadata": {},
     "output_type": "execute_result"
    }
   ],
   "source": [
    "list4.clear()\n",
    "list4"
   ]
  },
  {
   "cell_type": "markdown",
   "id": "60cf63e6",
   "metadata": {},
   "source": [
    "# 8.del Method\n",
    "-Similar to pop, deleted element at given index\n",
    "\n",
    "-Also responsible to delete the whole list"
   ]
  },
  {
   "cell_type": "code",
   "execution_count": 40,
   "id": "e9d71888",
   "metadata": {},
   "outputs": [
    {
     "data": {
      "text/plain": [
       "[1, 2, 3, 4, 5, 6]"
      ]
     },
     "execution_count": 40,
     "metadata": {},
     "output_type": "execute_result"
    }
   ],
   "source": [
    "list3"
   ]
  },
  {
   "cell_type": "code",
   "execution_count": 41,
   "id": "121c476c",
   "metadata": {},
   "outputs": [
    {
     "data": {
      "text/plain": [
       "[1, 3, 4, 5, 6]"
      ]
     },
     "execution_count": 41,
     "metadata": {},
     "output_type": "execute_result"
    }
   ],
   "source": [
    "del list3[1]\n",
    "list3"
   ]
  },
  {
   "cell_type": "code",
   "execution_count": 42,
   "id": "e46fdfc4",
   "metadata": {},
   "outputs": [],
   "source": [
    "del list3"
   ]
  },
  {
   "cell_type": "code",
   "execution_count": 43,
   "id": "22c9775a",
   "metadata": {},
   "outputs": [
    {
     "ename": "NameError",
     "evalue": "name 'list3' is not defined",
     "output_type": "error",
     "traceback": [
      "\u001b[1;31m---------------------------------------------------------------------------\u001b[0m",
      "\u001b[1;31mNameError\u001b[0m                                 Traceback (most recent call last)",
      "Cell \u001b[1;32mIn[43], line 1\u001b[0m\n\u001b[1;32m----> 1\u001b[0m list3\n",
      "\u001b[1;31mNameError\u001b[0m: name 'list3' is not defined"
     ]
    }
   ],
   "source": [
    "list3"
   ]
  },
  {
   "cell_type": "markdown",
   "id": "ebee9eb4",
   "metadata": {},
   "source": [
    "# 9.Membership operator ( in & not in )\n",
    "-To check if element is present or not"
   ]
  },
  {
   "cell_type": "code",
   "execution_count": 48,
   "id": "7b52dc22",
   "metadata": {},
   "outputs": [
    {
     "data": {
      "text/plain": [
       "[1, 2, 3, 4, 5, 6, 7]"
      ]
     },
     "execution_count": 48,
     "metadata": {},
     "output_type": "execute_result"
    }
   ],
   "source": [
    "list5=[1,2,3,4,5,6,7]\n",
    "list5"
   ]
  },
  {
   "cell_type": "code",
   "execution_count": 45,
   "id": "f6c9e629",
   "metadata": {},
   "outputs": [
    {
     "data": {
      "text/plain": [
       "True"
      ]
     },
     "execution_count": 45,
     "metadata": {},
     "output_type": "execute_result"
    }
   ],
   "source": [
    "5 in list5"
   ]
  },
  {
   "cell_type": "code",
   "execution_count": 46,
   "id": "4dbd27a2",
   "metadata": {},
   "outputs": [
    {
     "data": {
      "text/plain": [
       "True"
      ]
     },
     "execution_count": 46,
     "metadata": {},
     "output_type": "execute_result"
    }
   ],
   "source": [
    "8 not in list5"
   ]
  },
  {
   "cell_type": "code",
   "execution_count": 47,
   "id": "7d5fe16f",
   "metadata": {},
   "outputs": [
    {
     "data": {
      "text/plain": [
       "False"
      ]
     },
     "execution_count": 47,
     "metadata": {},
     "output_type": "execute_result"
    }
   ],
   "source": [
    "0 in list5"
   ]
  },
  {
   "cell_type": "markdown",
   "id": "33397700",
   "metadata": {},
   "source": [
    "# 10. Reverse\n",
    "-To reverse a list"
   ]
  },
  {
   "cell_type": "code",
   "execution_count": 49,
   "id": "1f8e7b8d",
   "metadata": {},
   "outputs": [
    {
     "data": {
      "text/plain": [
       "[1, 2, 3, 4, 5, 6, 7]"
      ]
     },
     "execution_count": 49,
     "metadata": {},
     "output_type": "execute_result"
    }
   ],
   "source": [
    "list5"
   ]
  },
  {
   "cell_type": "code",
   "execution_count": 50,
   "id": "19a80a42",
   "metadata": {},
   "outputs": [],
   "source": [
    "list5.reverse()"
   ]
  },
  {
   "cell_type": "code",
   "execution_count": 51,
   "id": "516299a8",
   "metadata": {},
   "outputs": [
    {
     "data": {
      "text/plain": [
       "[7, 6, 5, 4, 3, 2, 1]"
      ]
     },
     "execution_count": 51,
     "metadata": {},
     "output_type": "execute_result"
    }
   ],
   "source": [
    "list5"
   ]
  },
  {
   "cell_type": "code",
   "execution_count": 53,
   "id": "339fc96b",
   "metadata": {},
   "outputs": [
    {
     "data": {
      "text/plain": [
       "[1, 2, 3, 4, 5, 6, 7]"
      ]
     },
     "execution_count": 53,
     "metadata": {},
     "output_type": "execute_result"
    }
   ],
   "source": [
    "list5[::-1]"
   ]
  },
  {
   "cell_type": "code",
   "execution_count": null,
   "id": "845c18bf",
   "metadata": {},
   "outputs": [],
   "source": []
  }
 ],
 "metadata": {
  "kernelspec": {
   "display_name": "Python 3 (ipykernel)",
   "language": "python",
   "name": "python3"
  },
  "language_info": {
   "codemirror_mode": {
    "name": "ipython",
    "version": 3
   },
   "file_extension": ".py",
   "mimetype": "text/x-python",
   "name": "python",
   "nbconvert_exporter": "python",
   "pygments_lexer": "ipython3",
   "version": "3.11.5"
  }
 },
 "nbformat": 4,
 "nbformat_minor": 5
}
