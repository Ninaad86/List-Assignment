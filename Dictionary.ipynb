{
 "cells": [
  {
   "cell_type": "markdown",
   "id": "34723aeb",
   "metadata": {},
   "source": [
    "# Dictionary\n",
    "    -{ }\n",
    "\n",
    "    -Key & Value pair\n",
    "\n",
    "    -Seperated by ','\n",
    "\n",
    "    -Keys are unique\n",
    "\n",
    "    -Value are accessed by keys dictionery.keys() dictionary.values() dictionary.items()\n",
    "\n",
    "    Dictionary is a mutable data type in python.A python dictionary is a collection of key and value pair so keys must be unique in a dictionary, duplicate values are allowed"
   ]
  },
  {
   "cell_type": "code",
   "execution_count": 13,
   "id": "5c99ecbc",
   "metadata": {},
   "outputs": [
    {
     "data": {
      "text/plain": [
       "dict"
      ]
     },
     "execution_count": 13,
     "metadata": {},
     "output_type": "execute_result"
    }
   ],
   "source": [
    "mydict={}\n",
    "type(mydict)"
   ]
  },
  {
   "cell_type": "code",
   "execution_count": 2,
   "id": "7eae894c",
   "metadata": {},
   "outputs": [],
   "source": [
    "dict1={1:'one',2:'two',3:'three',4:'four'}"
   ]
  },
  {
   "cell_type": "code",
   "execution_count": 4,
   "id": "2e238bdc",
   "metadata": {},
   "outputs": [
    {
     "data": {
      "text/plain": [
       "dict_keys([1, 2, 3, 4])"
      ]
     },
     "execution_count": 4,
     "metadata": {},
     "output_type": "execute_result"
    }
   ],
   "source": [
    "dict1.keys() #Accessing keys"
   ]
  },
  {
   "cell_type": "code",
   "execution_count": 5,
   "id": "c998832c",
   "metadata": {},
   "outputs": [
    {
     "data": {
      "text/plain": [
       "dict_values(['one', 'two', 'three', 'four'])"
      ]
     },
     "execution_count": 5,
     "metadata": {},
     "output_type": "execute_result"
    }
   ],
   "source": [
    "dict1.values() #accessing values"
   ]
  },
  {
   "cell_type": "code",
   "execution_count": 6,
   "id": "609863e4",
   "metadata": {},
   "outputs": [
    {
     "data": {
      "text/plain": [
       "dict_items([(1, 'one'), (2, 'two'), (3, 'three'), (4, 'four')])"
      ]
     },
     "execution_count": 6,
     "metadata": {},
     "output_type": "execute_result"
    }
   ],
   "source": [
    "dict1.items() #Accessing items"
   ]
  },
  {
   "cell_type": "code",
   "execution_count": 7,
   "id": "1f9b601d",
   "metadata": {},
   "outputs": [
    {
     "data": {
      "text/plain": [
       "'one'"
      ]
     },
     "execution_count": 7,
     "metadata": {},
     "output_type": "execute_result"
    }
   ],
   "source": [
    "dict1[1] #accessing values using keys"
   ]
  },
  {
   "cell_type": "markdown",
   "id": "37a6ead0",
   "metadata": {},
   "source": [
    "# 1.Update"
   ]
  },
  {
   "cell_type": "code",
   "execution_count": 23,
   "id": "e443fcf3",
   "metadata": {},
   "outputs": [
    {
     "data": {
      "text/plain": [
       "{'Name': 'Data',\n",
       " 'ID': 1234,\n",
       " 'DOB': 2000,\n",
       " 'Address': 'Hilsinki',\n",
       " 'Age': 22,\n",
       " 'Height': 128}"
      ]
     },
     "execution_count": 23,
     "metadata": {},
     "output_type": "execute_result"
    }
   ],
   "source": [
    "mydict1={'Name':'Data','ID':1234, 'DOB':2000,'Address':'Hilsinki','Age':22,'Height':128}\n",
    "mydict1"
   ]
  },
  {
   "cell_type": "code",
   "execution_count": 24,
   "id": "e0ee31b2",
   "metadata": {},
   "outputs": [
    {
     "data": {
      "text/plain": [
       "{'Name': 'Data',\n",
       " 'ID': 1234,\n",
       " 'DOB': 2000,\n",
       " 'Address': 'Hilsinki',\n",
       " 'Age': 22,\n",
       " 'Height': 128,\n",
       " 'Job': 'Analyst'}"
      ]
     },
     "execution_count": 24,
     "metadata": {},
     "output_type": "execute_result"
    }
   ],
   "source": [
    "mydict1.update({'Job':'Analyst'}) #Adds another pair of key&value, if already present updates the value\n",
    "mydict1"
   ]
  },
  {
   "cell_type": "code",
   "execution_count": 25,
   "id": "7a63b41a",
   "metadata": {},
   "outputs": [
    {
     "data": {
      "text/plain": [
       "{'Name': 'Data',\n",
       " 'ID': 1234,\n",
       " 'DOB': 1995,\n",
       " 'Address': 'Hilsinki',\n",
       " 'Age': 22,\n",
       " 'Height': 128,\n",
       " 'Job': 'Analyst'}"
      ]
     },
     "execution_count": 25,
     "metadata": {},
     "output_type": "execute_result"
    }
   ],
   "source": [
    "mydict1.update({'DOB':1995})\n",
    "mydict1"
   ]
  },
  {
   "cell_type": "code",
   "execution_count": 26,
   "id": "9309334b",
   "metadata": {},
   "outputs": [
    {
     "data": {
      "text/plain": [
       "{'Name': 'Data',\n",
       " 'ID': 1234,\n",
       " 'DOB': 1995,\n",
       " 'Address': 'Hilsinki',\n",
       " 'Age': 22,\n",
       " 'Height': 128,\n",
       " 'Job': 'Analyst',\n",
       " 'key': 'Value1'}"
      ]
     },
     "execution_count": 26,
     "metadata": {},
     "output_type": "execute_result"
    }
   ],
   "source": [
    "mydict1['key']='Value1' # adds another pair\n",
    "mydict1"
   ]
  },
  {
   "cell_type": "markdown",
   "id": "07563235",
   "metadata": {},
   "source": [
    "# 2.Pop"
   ]
  },
  {
   "cell_type": "code",
   "execution_count": 27,
   "id": "3bac700a",
   "metadata": {},
   "outputs": [
    {
     "data": {
      "text/plain": [
       "{'Name': 'Data',\n",
       " 'ID': 1234,\n",
       " 'DOB': 1995,\n",
       " 'Address': 'Hilsinki',\n",
       " 'Age': 22,\n",
       " 'Height': 128,\n",
       " 'Job': 'Analyst',\n",
       " 'key': 'Value1'}"
      ]
     },
     "execution_count": 27,
     "metadata": {},
     "output_type": "execute_result"
    }
   ],
   "source": [
    "mydict1"
   ]
  },
  {
   "cell_type": "code",
   "execution_count": 28,
   "id": "26d7ce94",
   "metadata": {},
   "outputs": [
    {
     "data": {
      "text/plain": [
       "'Value1'"
      ]
     },
     "execution_count": 28,
     "metadata": {},
     "output_type": "execute_result"
    }
   ],
   "source": [
    "mydict1.pop('key') #Deletes given key along with value"
   ]
  },
  {
   "cell_type": "markdown",
   "id": "9b8da468",
   "metadata": {},
   "source": [
    "mydict1.popitem() #deletes the last pair from the dictionary"
   ]
  },
  {
   "cell_type": "markdown",
   "id": "a4095c7e",
   "metadata": {},
   "source": [
    "# 3.del method"
   ]
  },
  {
   "cell_type": "code",
   "execution_count": 31,
   "id": "8399d503",
   "metadata": {},
   "outputs": [
    {
     "data": {
      "text/plain": [
       "{'Name': 'Data', 'ID': 1234, 'DOB': 1995, 'Address': 'Hilsinki', 'Age': 22}"
      ]
     },
     "execution_count": 31,
     "metadata": {},
     "output_type": "execute_result"
    }
   ],
   "source": [
    "# Removing item using del keyword\n",
    "del mydict1['Height']\n",
    "mydict1"
   ]
  },
  {
   "cell_type": "code",
   "execution_count": 34,
   "id": "b85418e3",
   "metadata": {},
   "outputs": [],
   "source": [
    "del mydict1"
   ]
  },
  {
   "cell_type": "markdown",
   "id": "7ceae134",
   "metadata": {},
   "source": [
    "# 4.Clear"
   ]
  },
  {
   "cell_type": "code",
   "execution_count": 32,
   "id": "bd712f26",
   "metadata": {},
   "outputs": [],
   "source": [
    "mydict1.clear() # Deletes all the key&value pairs from dictionary"
   ]
  },
  {
   "cell_type": "code",
   "execution_count": 35,
   "id": "c5ecb3c2",
   "metadata": {},
   "outputs": [
    {
     "ename": "NameError",
     "evalue": "name 'mydict1' is not defined",
     "output_type": "error",
     "traceback": [
      "\u001b[1;31m---------------------------------------------------------------------------\u001b[0m",
      "\u001b[1;31mNameError\u001b[0m                                 Traceback (most recent call last)",
      "Cell \u001b[1;32mIn[35], line 1\u001b[0m\n\u001b[1;32m----> 1\u001b[0m mydict1\n",
      "\u001b[1;31mNameError\u001b[0m: name 'mydict1' is not defined"
     ]
    }
   ],
   "source": [
    "mydict1"
   ]
  },
  {
   "cell_type": "code",
   "execution_count": null,
   "id": "3003b0c3",
   "metadata": {},
   "outputs": [],
   "source": []
  }
 ],
 "metadata": {
  "kernelspec": {
   "display_name": "Python 3 (ipykernel)",
   "language": "python",
   "name": "python3"
  },
  "language_info": {
   "codemirror_mode": {
    "name": "ipython",
    "version": 3
   },
   "file_extension": ".py",
   "mimetype": "text/x-python",
   "name": "python",
   "nbconvert_exporter": "python",
   "pygments_lexer": "ipython3",
   "version": "3.11.5"
  }
 },
 "nbformat": 4,
 "nbformat_minor": 5
}
