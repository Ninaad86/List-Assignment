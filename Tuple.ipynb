{
 "cells": [
  {
   "cell_type": "markdown",
   "id": "9347b6e6",
   "metadata": {},
   "source": [
    "# Tuple\n",
    "*   ( )\n",
    "\n",
    "*   Indexing is allowed\n",
    "\n",
    "*   Slicing is allowed\n",
    "\n",
    "*   Update and Remove not allowed\n",
    "\n",
    "*   Tuple is Immutable\n",
    "\n",
    "*   Deletion is not allowed\n",
    "\n",
    "*   No changes are allowed once tuple is created except deleting whole tuple \n"
   ]
  },
  {
   "cell_type": "code",
   "execution_count": 1,
   "id": "0a4321af",
   "metadata": {},
   "outputs": [
    {
     "data": {
      "text/plain": [
       "(1, 2, 3, 4, 5)"
      ]
     },
     "execution_count": 1,
     "metadata": {},
     "output_type": "execute_result"
    }
   ],
   "source": [
    "tup1=(1,2,3,4,5)\n",
    "tup1"
   ]
  },
  {
   "cell_type": "code",
   "execution_count": 5,
   "id": "790cad59",
   "metadata": {},
   "outputs": [
    {
     "data": {
      "text/plain": [
       "({'Danane', 'ninaad'}, 32, 41, 45, [12, 14, 16, 18])"
      ]
     },
     "execution_count": 5,
     "metadata": {},
     "output_type": "execute_result"
    }
   ],
   "source": [
    "tup2=({'ninaad','Danane'},32,41,45,[12,14,16,18]) #nested tuple\n",
    "tup2  "
   ]
  },
  {
   "cell_type": "markdown",
   "id": "9b41e453",
   "metadata": {},
   "source": [
    "# 1.Indexing & Slicing"
   ]
  },
  {
   "cell_type": "code",
   "execution_count": 6,
   "id": "a910b83e",
   "metadata": {},
   "outputs": [
    {
     "data": {
      "text/plain": [
       "4"
      ]
     },
     "execution_count": 6,
     "metadata": {},
     "output_type": "execute_result"
    }
   ],
   "source": [
    "tup1[3]"
   ]
  },
  {
   "cell_type": "code",
   "execution_count": 7,
   "id": "efc07e3c",
   "metadata": {},
   "outputs": [
    {
     "data": {
      "text/plain": [
       "{'Danane', 'ninaad'}"
      ]
     },
     "execution_count": 7,
     "metadata": {},
     "output_type": "execute_result"
    }
   ],
   "source": [
    "tup2[0]"
   ]
  },
  {
   "cell_type": "code",
   "execution_count": 8,
   "id": "0fe7d200",
   "metadata": {},
   "outputs": [
    {
     "data": {
      "text/plain": [
       "(2, 3, 4)"
      ]
     },
     "execution_count": 8,
     "metadata": {},
     "output_type": "execute_result"
    }
   ],
   "source": [
    "tup1[1:4]"
   ]
  },
  {
   "cell_type": "code",
   "execution_count": 9,
   "id": "e8ebb717",
   "metadata": {},
   "outputs": [
    {
     "data": {
      "text/plain": [
       "(5, 4, 3, 2, 1)"
      ]
     },
     "execution_count": 9,
     "metadata": {},
     "output_type": "execute_result"
    }
   ],
   "source": [
    "tup1[::-1]"
   ]
  },
  {
   "cell_type": "code",
   "execution_count": 10,
   "id": "34a04fb7",
   "metadata": {},
   "outputs": [],
   "source": [
    "tup3=(\"ninad\",12,{'data',41,34.51},[31,52,['anurag',[\"joker\",1,2]]],('john','david'))"
   ]
  },
  {
   "cell_type": "code",
   "execution_count": 14,
   "id": "2715bb90",
   "metadata": {},
   "outputs": [
    {
     "data": {
      "text/plain": [
       "'anurag'"
      ]
     },
     "execution_count": 14,
     "metadata": {},
     "output_type": "execute_result"
    }
   ],
   "source": [
    "tup3[3][2][0]"
   ]
  },
  {
   "cell_type": "markdown",
   "id": "2959bb74",
   "metadata": {},
   "source": [
    "# 2.Removing & Changes"
   ]
  },
  {
   "cell_type": "code",
   "execution_count": 1,
   "id": "74eea711",
   "metadata": {},
   "outputs": [
    {
     "ename": "NameError",
     "evalue": "name 'tup2' is not defined",
     "output_type": "error",
     "traceback": [
      "\u001b[1;31m---------------------------------------------------------------------------\u001b[0m",
      "\u001b[1;31mNameError\u001b[0m                                 Traceback (most recent call last)",
      "Cell \u001b[1;32mIn[1], line 1\u001b[0m\n\u001b[1;32m----> 1\u001b[0m \u001b[38;5;28;01mdel\u001b[39;00m tup2[\u001b[38;5;241m2\u001b[39m]\n",
      "\u001b[1;31mNameError\u001b[0m: name 'tup2' is not defined"
     ]
    }
   ],
   "source": [
    "del tup2[2]"
   ]
  },
  {
   "cell_type": "markdown",
   "id": "f51f12d6",
   "metadata": {},
   "source": [
    "**No Changes can be made once a tuple is created**"
   ]
  },
  {
   "cell_type": "code",
   "execution_count": 18,
   "id": "c9ebc0f0",
   "metadata": {},
   "outputs": [
    {
     "ename": "NameError",
     "evalue": "name 'tup4' is not defined",
     "output_type": "error",
     "traceback": [
      "\u001b[1;31m---------------------------------------------------------------------------\u001b[0m",
      "\u001b[1;31mNameError\u001b[0m                                 Traceback (most recent call last)",
      "Cell \u001b[1;32mIn[18], line 3\u001b[0m\n\u001b[0;32m      1\u001b[0m tup4\u001b[38;5;241m=\u001b[39m(\u001b[38;5;241m1\u001b[39m,\u001b[38;5;241m2\u001b[39m,\u001b[38;5;241m3\u001b[39m,\u001b[38;5;241m4\u001b[39m)\n\u001b[0;32m      2\u001b[0m \u001b[38;5;28;01mdel\u001b[39;00m tup4\n\u001b[1;32m----> 3\u001b[0m tup4\n",
      "\u001b[1;31mNameError\u001b[0m: name 'tup4' is not defined"
     ]
    }
   ],
   "source": [
    "tup4=(1,2,3,4)\n",
    "del tup4\n",
    "tup4"
   ]
  },
  {
   "cell_type": "markdown",
   "id": "d15bc8b0",
   "metadata": {},
   "source": [
    "# 3.Count"
   ]
  },
  {
   "cell_type": "code",
   "execution_count": 2,
   "id": "84052402",
   "metadata": {},
   "outputs": [],
   "source": [
    "mytup=(1,2,1,3,4,3,1,2,3,4,5,6)"
   ]
  },
  {
   "cell_type": "code",
   "execution_count": 7,
   "id": "c5099222",
   "metadata": {},
   "outputs": [
    {
     "data": {
      "text/plain": [
       "1"
      ]
     },
     "execution_count": 7,
     "metadata": {},
     "output_type": "execute_result"
    }
   ],
   "source": [
    "mytup.count(1)"
   ]
  },
  {
   "cell_type": "code",
   "execution_count": 9,
   "id": "a9bab17f",
   "metadata": {},
   "outputs": [
    {
     "data": {
      "text/plain": [
       "1"
      ]
     },
     "execution_count": 9,
     "metadata": {},
     "output_type": "execute_result"
    }
   ],
   "source": [
    "mytup.count(2)"
   ]
  },
  {
   "cell_type": "markdown",
   "id": "e29ba293",
   "metadata": {},
   "source": [
    "# 4.Membership"
   ]
  },
  {
   "cell_type": "code",
   "execution_count": 10,
   "id": "bedb76e7",
   "metadata": {},
   "outputs": [
    {
     "data": {
      "text/plain": [
       "True"
      ]
     },
     "execution_count": 10,
     "metadata": {},
     "output_type": "execute_result"
    }
   ],
   "source": [
    "2 in mytup"
   ]
  },
  {
   "cell_type": "markdown",
   "id": "c3f6f15a",
   "metadata": {},
   "source": [
    "# 5.Sorting"
   ]
  },
  {
   "cell_type": "code",
   "execution_count": 13,
   "id": "1cd2be29",
   "metadata": {},
   "outputs": [
    {
     "data": {
      "text/plain": [
       "[12, 14, 14, 23, 35, 36, 41, 47, 51, 55]"
      ]
     },
     "execution_count": 13,
     "metadata": {},
     "output_type": "execute_result"
    }
   ],
   "source": [
    "mytup1=(23,14,12,51,36,47,14,35,41,55)\n",
    "a=sorted(mytup1)\n",
    "a"
   ]
  },
  {
   "cell_type": "code",
   "execution_count": 15,
   "id": "8f76c379",
   "metadata": {},
   "outputs": [
    {
     "data": {
      "text/plain": [
       "[55, 51, 47, 41, 36, 35, 23, 14, 14, 12]"
      ]
     },
     "execution_count": 15,
     "metadata": {},
     "output_type": "execute_result"
    }
   ],
   "source": [
    "#Reverse Sort\n",
    "sorted(mytup1,reverse=True)"
   ]
  },
  {
   "cell_type": "code",
   "execution_count": null,
   "id": "4ce430b5",
   "metadata": {},
   "outputs": [],
   "source": []
  }
 ],
 "metadata": {
  "kernelspec": {
   "display_name": "Python 3 (ipykernel)",
   "language": "python",
   "name": "python3"
  },
  "language_info": {
   "codemirror_mode": {
    "name": "ipython",
    "version": 3
   },
   "file_extension": ".py",
   "mimetype": "text/x-python",
   "name": "python",
   "nbconvert_exporter": "python",
   "pygments_lexer": "ipython3",
   "version": "3.11.5"
  }
 },
 "nbformat": 4,
 "nbformat_minor": 5
}
