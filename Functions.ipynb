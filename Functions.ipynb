{
 "cells": [
  {
   "cell_type": "markdown",
   "id": "5d5608fc",
   "metadata": {},
   "source": [
    "## Accept Radius and calculate the area of circle"
   ]
  },
  {
   "cell_type": "code",
   "execution_count": 2,
   "id": "c175d9f0",
   "metadata": {},
   "outputs": [],
   "source": [
    "#No Parameter & No return\n",
    "def area_of_circle():\n",
    "    rad=eval(input(\"Enter the radius of circle : \"))\n",
    "    area=3.141*(rad**2)\n",
    "    print(\"Area of the circle is : \",area)"
   ]
  },
  {
   "cell_type": "code",
   "execution_count": 4,
   "id": "184f471d",
   "metadata": {},
   "outputs": [
    {
     "name": "stdout",
     "output_type": "stream",
     "text": [
      "Enter the radius of circle : 5\n",
      "Area of the circle is :  78.525\n"
     ]
    }
   ],
   "source": [
    "area_of_circle()"
   ]
  },
  {
   "cell_type": "code",
   "execution_count": 9,
   "id": "3a167585",
   "metadata": {},
   "outputs": [],
   "source": [
    "#With parameter & No return\n",
    "def area_circle(rad):\n",
    "    area=3.142*(rad**2)\n",
    "    print(\"Area of Circle is : \",area)"
   ]
  },
  {
   "cell_type": "code",
   "execution_count": 11,
   "id": "29b8c28d",
   "metadata": {
    "scrolled": true
   },
   "outputs": [
    {
     "name": "stdout",
     "output_type": "stream",
     "text": [
      "Enter radius : 5\n",
      "Area of Circle is :  78.55\n"
     ]
    }
   ],
   "source": [
    "area_circle(eval(input(\"Enter radius : \")))"
   ]
  },
  {
   "cell_type": "code",
   "execution_count": 12,
   "id": "1e9cae56",
   "metadata": {},
   "outputs": [],
   "source": [
    "#With parameter & with return\n",
    "def circle_area(rad):\n",
    "    area=3.142*(rad**2)\n",
    "    return area"
   ]
  },
  {
   "cell_type": "code",
   "execution_count": 13,
   "id": "d64d8286",
   "metadata": {},
   "outputs": [
    {
     "name": "stdout",
     "output_type": "stream",
     "text": [
      "50.272\n"
     ]
    }
   ],
   "source": [
    "a=circle_area(4)\n",
    "print(a)"
   ]
  },
  {
   "cell_type": "markdown",
   "id": "6245c062",
   "metadata": {},
   "source": [
    "## Accept number from user and check if the number is even or odd"
   ]
  },
  {
   "cell_type": "code",
   "execution_count": 5,
   "id": "b7edb6bd",
   "metadata": {},
   "outputs": [],
   "source": [
    "#No Parameter & No Return\n",
    "def evodd():\n",
    "    num=eval(input(\"Enter number to check even or odd : \"))\n",
    "    if(num%2==0):\n",
    "        print(\"Even Number\")\n",
    "    else:\n",
    "        print(\"Odd Number\")"
   ]
  },
  {
   "cell_type": "code",
   "execution_count": 7,
   "id": "f20fee5e",
   "metadata": {},
   "outputs": [
    {
     "name": "stdout",
     "output_type": "stream",
     "text": [
      "Enter number to check even or odd : 4571\n",
      "Odd Number\n"
     ]
    }
   ],
   "source": [
    "evodd()"
   ]
  },
  {
   "cell_type": "code",
   "execution_count": 14,
   "id": "a7a5a7c6",
   "metadata": {},
   "outputs": [],
   "source": [
    "#With Parameter & No return\n",
    "def evenodd(num):\n",
    "    if(num%2==0):\n",
    "        print(\"Even Number\")\n",
    "    else:\n",
    "        print(\"Odd Number\")"
   ]
  },
  {
   "cell_type": "code",
   "execution_count": 15,
   "id": "ec90d22a",
   "metadata": {},
   "outputs": [
    {
     "name": "stdout",
     "output_type": "stream",
     "text": [
      "Even Number\n"
     ]
    }
   ],
   "source": [
    "evenodd(4)"
   ]
  },
  {
   "cell_type": "code",
   "execution_count": 19,
   "id": "9731577e",
   "metadata": {},
   "outputs": [],
   "source": [
    "#With Parameter & With return\n",
    "def oddeven(num):\n",
    "    if(num%2==0):\n",
    "        return(\"Even Number\")\n",
    "    else:\n",
    "        return(\"Odd Number\")"
   ]
  },
  {
   "cell_type": "code",
   "execution_count": 20,
   "id": "e0c27a30",
   "metadata": {},
   "outputs": [
    {
     "name": "stdout",
     "output_type": "stream",
     "text": [
      "Even Number\n"
     ]
    }
   ],
   "source": [
    "x=oddeven(4)\n",
    "print(x)"
   ]
  },
  {
   "cell_type": "code",
   "execution_count": null,
   "id": "9e94ca9e",
   "metadata": {},
   "outputs": [],
   "source": []
  }
 ],
 "metadata": {
  "kernelspec": {
   "display_name": "Python 3 (ipykernel)",
   "language": "python",
   "name": "python3"
  },
  "language_info": {
   "codemirror_mode": {
    "name": "ipython",
    "version": 3
   },
   "file_extension": ".py",
   "mimetype": "text/x-python",
   "name": "python",
   "nbconvert_exporter": "python",
   "pygments_lexer": "ipython3",
   "version": "3.11.5"
  }
 },
 "nbformat": 4,
 "nbformat_minor": 5
}
