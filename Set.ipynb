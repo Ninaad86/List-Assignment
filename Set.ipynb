{
 "cells": [
  {
   "cell_type": "markdown",
   "id": "10302a24",
   "metadata": {},
   "source": [
    "# Set\n",
    "* { }\n",
    "* Indexing not supported\n",
    "* Only unique elements allowed\n",
    "* Unordered & unindexed collection of items"
   ]
  },
  {
   "cell_type": "code",
   "execution_count": 1,
   "id": "bcbacb3f",
   "metadata": {},
   "outputs": [
    {
     "data": {
      "text/plain": [
       "set"
      ]
     },
     "execution_count": 1,
     "metadata": {},
     "output_type": "execute_result"
    }
   ],
   "source": [
    "#Empty Set \n",
    "myset=set()\n",
    "type(myset)"
   ]
  },
  {
   "cell_type": "markdown",
   "id": "d43d42b6",
   "metadata": {},
   "source": [
    "# 1.add Method\n",
    "    -Adds only one element\n",
    "    "
   ]
  },
  {
   "cell_type": "code",
   "execution_count": 2,
   "id": "8a25285d",
   "metadata": {},
   "outputs": [
    {
     "data": {
      "text/plain": [
       "{1, 2, 3, 4, 5, 6}"
      ]
     },
     "execution_count": 2,
     "metadata": {},
     "output_type": "execute_result"
    }
   ],
   "source": [
    "myset={1,2,3,4,5}\n",
    "myset.add(6)\n",
    "myset"
   ]
  },
  {
   "cell_type": "code",
   "execution_count": 3,
   "id": "a4bdb4ad",
   "metadata": {},
   "outputs": [],
   "source": [
    "myset.add('abc')"
   ]
  },
  {
   "cell_type": "code",
   "execution_count": 4,
   "id": "aa9e4fb7",
   "metadata": {},
   "outputs": [
    {
     "data": {
      "text/plain": [
       "{1, 2, 3, 4, 5, 6, 'abc'}"
      ]
     },
     "execution_count": 4,
     "metadata": {},
     "output_type": "execute_result"
    }
   ],
   "source": [
    "myset"
   ]
  },
  {
   "cell_type": "code",
   "execution_count": 5,
   "id": "963dc9b1",
   "metadata": {},
   "outputs": [
    {
     "ename": "TypeError",
     "evalue": "set.add() takes exactly one argument (2 given)",
     "output_type": "error",
     "traceback": [
      "\u001b[1;31m---------------------------------------------------------------------------\u001b[0m",
      "\u001b[1;31mTypeError\u001b[0m                                 Traceback (most recent call last)",
      "Cell \u001b[1;32mIn[5], line 1\u001b[0m\n\u001b[1;32m----> 1\u001b[0m myset\u001b[38;5;241m.\u001b[39madd(\u001b[38;5;241m7\u001b[39m,\u001b[38;5;241m8\u001b[39m)\n",
      "\u001b[1;31mTypeError\u001b[0m: set.add() takes exactly one argument (2 given)"
     ]
    }
   ],
   "source": [
    "myset.add(7,8) "
   ]
  },
  {
   "cell_type": "markdown",
   "id": "724139e2",
   "metadata": {},
   "source": [
    "# 2.Update method\n",
    "-Adds Multiple elements"
   ]
  },
  {
   "cell_type": "code",
   "execution_count": 19,
   "id": "7191ebf8",
   "metadata": {},
   "outputs": [
    {
     "data": {
      "text/plain": [
       "{'four', 'one', 'three', 'two'}"
      ]
     },
     "execution_count": 19,
     "metadata": {},
     "output_type": "execute_result"
    }
   ],
   "source": [
    "set1={'one','two','three','four'}\n",
    "set1"
   ]
  },
  {
   "cell_type": "code",
   "execution_count": 20,
   "id": "90803045",
   "metadata": {},
   "outputs": [
    {
     "data": {
      "text/plain": [
       "{5, 6, 'five', 'four', 'one', 'six', 'three', 'two'}"
      ]
     },
     "execution_count": 20,
     "metadata": {},
     "output_type": "execute_result"
    }
   ],
   "source": [
    "set1.update(['five','six',5,6])\n",
    "set1"
   ]
  },
  {
   "cell_type": "markdown",
   "id": "8bb156fc",
   "metadata": {},
   "source": [
    "# 3.Remove/Discard method\n"
   ]
  },
  {
   "cell_type": "code",
   "execution_count": 21,
   "id": "a06e25ef",
   "metadata": {},
   "outputs": [
    {
     "data": {
      "text/plain": [
       "{5, 6, 'five', 'four', 'one', 'six', 'three', 'two'}"
      ]
     },
     "execution_count": 21,
     "metadata": {},
     "output_type": "execute_result"
    }
   ],
   "source": [
    "set1"
   ]
  },
  {
   "cell_type": "code",
   "execution_count": 22,
   "id": "ddbb11a0",
   "metadata": {},
   "outputs": [
    {
     "data": {
      "text/plain": [
       "{5, 'five', 'four', 'one', 'six', 'three', 'two'}"
      ]
     },
     "execution_count": 22,
     "metadata": {},
     "output_type": "execute_result"
    }
   ],
   "source": [
    "set1.remove(6) # removes selected element\n",
    "set1"
   ]
  },
  {
   "cell_type": "code",
   "execution_count": 17,
   "id": "e97ce729",
   "metadata": {},
   "outputs": [
    {
     "data": {
      "text/plain": [
       "{6, 'five', 'four', 'one', 'six', 'three', 'two'}"
      ]
     },
     "execution_count": 17,
     "metadata": {},
     "output_type": "execute_result"
    }
   ],
   "source": [
    "set1.discard(5)  # removes selected element\n",
    "set1"
   ]
  },
  {
   "cell_type": "markdown",
   "id": "218556a5",
   "metadata": {},
   "source": [
    "# 4.Clear"
   ]
  },
  {
   "cell_type": "code",
   "execution_count": 23,
   "id": "28c85429",
   "metadata": {},
   "outputs": [
    {
     "data": {
      "text/plain": [
       "set()"
      ]
     },
     "execution_count": 23,
     "metadata": {},
     "output_type": "execute_result"
    }
   ],
   "source": [
    "set1.clear() #Clears the set\n",
    "set1"
   ]
  },
  {
   "cell_type": "markdown",
   "id": "10e4ff22",
   "metadata": {},
   "source": [
    "# 5.Set Operations"
   ]
  },
  {
   "cell_type": "code",
   "execution_count": 24,
   "id": "8e47fe16",
   "metadata": {},
   "outputs": [],
   "source": [
    "A = {1,2,3,4,5}\n",
    "B = {4,5,6,7,8}\n",
    "C = {8,9,10}"
   ]
  },
  {
   "cell_type": "code",
   "execution_count": 25,
   "id": "c4876cf3",
   "metadata": {},
   "outputs": [
    {
     "data": {
      "text/plain": [
       "{1, 2, 3, 4, 5, 6, 7, 8}"
      ]
     },
     "execution_count": 25,
     "metadata": {},
     "output_type": "execute_result"
    }
   ],
   "source": [
    "A.union(B)"
   ]
  },
  {
   "cell_type": "code",
   "execution_count": 26,
   "id": "9e96debd",
   "metadata": {},
   "outputs": [
    {
     "data": {
      "text/plain": [
       "{1, 2, 3, 4, 5, 6, 7, 8}"
      ]
     },
     "execution_count": 26,
     "metadata": {},
     "output_type": "execute_result"
    }
   ],
   "source": [
    "B.union(A)"
   ]
  },
  {
   "cell_type": "code",
   "execution_count": 27,
   "id": "5b651527",
   "metadata": {},
   "outputs": [
    {
     "data": {
      "text/plain": [
       "{1, 2, 3, 4, 5, 8, 9, 10}"
      ]
     },
     "execution_count": 27,
     "metadata": {},
     "output_type": "execute_result"
    }
   ],
   "source": [
    "A.union(C)"
   ]
  },
  {
   "cell_type": "code",
   "execution_count": 28,
   "id": "ae9af619",
   "metadata": {},
   "outputs": [
    {
     "data": {
      "text/plain": [
       "{4, 5}"
      ]
     },
     "execution_count": 28,
     "metadata": {},
     "output_type": "execute_result"
    }
   ],
   "source": [
    "A.intersection(B)"
   ]
  },
  {
   "cell_type": "code",
   "execution_count": 30,
   "id": "fb01f6cd",
   "metadata": {},
   "outputs": [
    {
     "data": {
      "text/plain": [
       "set()"
      ]
     },
     "execution_count": 30,
     "metadata": {},
     "output_type": "execute_result"
    }
   ],
   "source": [
    "A.intersection(C)"
   ]
  },
  {
   "cell_type": "code",
   "execution_count": 31,
   "id": "095281bf",
   "metadata": {},
   "outputs": [
    {
     "data": {
      "text/plain": [
       "{1, 2, 3}"
      ]
     },
     "execution_count": 31,
     "metadata": {},
     "output_type": "execute_result"
    }
   ],
   "source": [
    "A.difference(B)"
   ]
  },
  {
   "cell_type": "code",
   "execution_count": 32,
   "id": "d5597650",
   "metadata": {},
   "outputs": [
    {
     "data": {
      "text/plain": [
       "{6, 7, 8}"
      ]
     },
     "execution_count": 32,
     "metadata": {},
     "output_type": "execute_result"
    }
   ],
   "source": [
    "B.difference(A)"
   ]
  },
  {
   "cell_type": "code",
   "execution_count": null,
   "id": "011aa38a",
   "metadata": {},
   "outputs": [],
   "source": []
  }
 ],
 "metadata": {
  "kernelspec": {
   "display_name": "Python 3 (ipykernel)",
   "language": "python",
   "name": "python3"
  },
  "language_info": {
   "codemirror_mode": {
    "name": "ipython",
    "version": 3
   },
   "file_extension": ".py",
   "mimetype": "text/x-python",
   "name": "python",
   "nbconvert_exporter": "python",
   "pygments_lexer": "ipython3",
   "version": "3.11.5"
  }
 },
 "nbformat": 4,
 "nbformat_minor": 5
}
